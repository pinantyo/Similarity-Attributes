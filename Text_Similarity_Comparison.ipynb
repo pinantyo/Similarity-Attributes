{
  "nbformat": 4,
  "nbformat_minor": 0,
  "metadata": {
    "colab": {
      "provenance": []
    },
    "kernelspec": {
      "name": "python3",
      "display_name": "Python 3"
    },
    "language_info": {
      "name": "python"
    }
  },
  "cells": [
    {
      "cell_type": "code",
      "execution_count": 1,
      "metadata": {
        "id": "Di_xUjGNRUJM"
      },
      "outputs": [],
      "source": [
        "import pandas as pd\n",
        "import numpy as np\n",
        "import os, time\n",
        "\n",
        "from math import floor, ceil"
      ]
    },
    {
      "cell_type": "markdown",
      "source": [
        "# Edit-based"
      ],
      "metadata": {
        "id": "VhDUw0A3kcwJ"
      }
    },
    {
      "cell_type": "code",
      "source": [
        "# This code is contributed by mohit kumar 29\n",
        "\n",
        "\n",
        "\n",
        "def winkler_calculation(distance, constant, count):\n",
        "   return (distance + (count*constant*(1-distance)))\n",
        "\n",
        "# Function to calculate the Jaro Similarity of two s\n",
        "def jaro_distance(s1, s2, constant):\n",
        "    # Check the first 4 similar chars\n",
        "    count = 0\n",
        "    for i, j in zip(s1, s2):\n",
        "        if i == j and count <= 4:\n",
        "            count += 1\n",
        "        else:\n",
        "            break\n",
        "\n",
        "    # If both string are equal\n",
        "    if (s1 == s2):\n",
        "        return 1.0\n",
        "\n",
        "    # Length of two strings\n",
        "    len1 = len(s1)\n",
        "    len2 = len(s2)\n",
        "\n",
        "    # Maximum distance upto which matching is allowed\n",
        "    max_dist = floor(max(len1, len2) / 2) - 1\n",
        "\n",
        "    # Count of matches\n",
        "    match = 0\n",
        "\n",
        "    # Hash for matches\n",
        "    hash_s1 = [0] * len(s1)\n",
        "    hash_s2 = [0] * len(s2)\n",
        "\n",
        "    # Traverse through the first\n",
        "    for i in range(len1):\n",
        "        # Check if there is any matches\n",
        "        for j in range(max(0, i - max_dist),\n",
        "                       min(len2, i + max_dist + 1)):\n",
        "\n",
        "            # If there is a match\n",
        "            if (s1[i] == s2[j] and hash_s2[j] == 0):\n",
        "                hash_s1[i] = 1\n",
        "                hash_s2[j] = 1\n",
        "                match += 1\n",
        "                break\n",
        "\n",
        "    # If there is no match\n",
        "    if (match == 0):\n",
        "        return 0.0\n",
        "\n",
        "    # Number of transpositions\n",
        "    t = 0\n",
        "    point = 0\n",
        "\n",
        "    # Count number of occurrences\n",
        "    # where two characters match but\n",
        "    # there is a third matched character\n",
        "    # in between the indices\n",
        "    for i in range(len1):\n",
        "        if (hash_s1[i]):\n",
        "\n",
        "            # Find the next matched character\n",
        "            # in second\n",
        "            while (hash_s2[point] == 0):\n",
        "                point += 1\n",
        "\n",
        "\n",
        "            if (s1[i] != s2[point]):\n",
        "                t += 1\n",
        "            point += 1\n",
        "\n",
        "    t = (t//2)\n",
        "\n",
        "    # Return the Jaro Similarity\n",
        "    return winkler_calculation((match/ len1 + match / len2 +\n",
        "            (match - t) / match)/ 3.0, constant, count)\n",
        "\n",
        "\n",
        "\n",
        "# def damerau(t1, t2, tokens_1, tokens_2, distance):\n",
        "#     # print(f'{t2} --- {tokens_2}')\n",
        "#     # print(f'--- {tokens_2[t2]}')\n",
        "#     # print(f'{tokens_1[t1]} == {tokens_2[t2-1]} || {tokens_1[t1-1]} == {tokens_2[t2]}')\n",
        "#     # if (t1 > 1 and t2 > 1) and (tokens_1[t1] == tokens_2[t2-1]) and (tokens_1[t1-1] == tokens_2[t2]):\n",
        "#     return min(distance[t1, t2], distance[t1-2, t2-2] + 1)\n",
        "\n",
        "def levenshteinDistanceDP(token1, token2, damerau_mode=False):\n",
        "\n",
        "\n",
        "    distances = np.zeros((len(token1) + 1, len(token2) + 1))\n",
        "\n",
        "    for t1 in range(len(token1) + 1):\n",
        "        distances[t1][0] = t1\n",
        "\n",
        "    for t2 in range(len(token2) + 1):\n",
        "        distances[0][t2] = t2\n",
        "\n",
        "    a = 0\n",
        "    b = 0\n",
        "    c = 0\n",
        "\n",
        "    for t1 in range(1, len(token1) + 1):\n",
        "        for t2 in range(1, len(token2) + 1):\n",
        "            if (token1[t1-1] == token2[t2-1]):\n",
        "                distances[t1][t2] = distances[t1 - 1][t2 - 1]\n",
        "            else:\n",
        "                a = distances[t1][t2 - 1]     # Insertion\n",
        "                b = distances[t1 - 1][t2]     # Deletion\n",
        "                c = distances[t1 - 1][t2 - 1] # Substitution\n",
        "\n",
        "\n",
        "                distances[t1][t2] = min(\n",
        "                    a + 1,\n",
        "                    b + 1,\n",
        "                    c + 1,\n",
        "                )\n",
        "\n",
        "                if damerau_mode:\n",
        "                  if (t1 > 1 and t2 > 1) and (token1[t1-2] == token2[t2-1]) and (token1[t1-1] == token2[t2-2]):\n",
        "                    distances[t1][t2] = min(\n",
        "                        distances[t1][t2],\n",
        "                        distances[t1-2, t2-2] + 1\n",
        "                    )\n",
        "\n",
        "\n",
        "    return distances[len(token1)][len(token2)]\n",
        "\n",
        "def jaccard_similarity(string1, string2):\n",
        "    intersection = len(list(set(string1).intersection(string2)))\n",
        "    union = (len(string1) + len(string2)) - intersection\n",
        "    return float(intersection) / union"
      ],
      "metadata": {
        "id": "xdVW989Tke5Q"
      },
      "execution_count": 2,
      "outputs": []
    },
    {
      "cell_type": "code",
      "source": [
        "if __name__ == '__main__':\n",
        "\n",
        "    # String\n",
        "    s1 = \"PT. M. Sejahtera_Abadi\"\n",
        "    s2 = \"PT. Muhammad Sejahtera\"\n",
        "\n",
        "    constant = float(input('Input Jaro Constant: '))\n",
        "\n",
        "    # Jaro-Winkler Similarity of Two Strings\n",
        "    start = time.perf_counter()\n",
        "    similarity = jaro_distance(s1, s2, constant)\n",
        "    end = time.perf_counter() - start\n",
        "\n",
        "    print(f'Jaro-Winkler Similarity: {round(similarity*100, 2)}% | Time: {round(end*1000, 1)} ms')\n",
        "\n",
        "\n",
        "    # Levenshtein Distance\n",
        "    start = time.perf_counter()\n",
        "    similarity = levenshteinDistanceDP(s1, s2)\n",
        "    end = time.perf_counter() - start\n",
        "\n",
        "    print(f'Levenshtein Distance: {round(similarity*100/max(len(s1), len(s2)), 2)} | Time: {round(end*1000, 1)} ms')\n",
        "\n",
        "    # Jaccard Similarity\n",
        "    start = time.perf_counter()\n",
        "    similarity = jaccard_similarity(s1, s2)\n",
        "    end = time.perf_counter() - start\n",
        "\n",
        "    print(f'Jaccard Similarity: {round(similarity*100, 2)}% | Time: {round(end*1000, 1)} ms')\n",
        "\n",
        "    # Damerau-Levenshtein Similarity\n",
        "    start = time.perf_counter()\n",
        "    similarity = levenshteinDistanceDP(s1, s2, True)\n",
        "    end = time.perf_counter() - start\n",
        "\n",
        "    print(f'Damerau-Levenshtein: {round(similarity*100/max(len(s1), len(s2)), 2)} | Time: {round(end*1000, 1)} ms')"
      ],
      "metadata": {
        "colab": {
          "base_uri": "https://localhost:8080/"
        },
        "id": "ynWpOir8k1lK",
        "outputId": "6bc1c0e8-cf35-4c4d-a580-865a68d94bac"
      },
      "execution_count": 3,
      "outputs": [
        {
          "output_type": "stream",
          "name": "stdout",
          "text": [
            "Input Jaro Constant: 0.2\n",
            "Jaro-Winkler Similarity: 100.0% | Time: 0.1 ms\n",
            "Levenshtein Distance: 59.09 | Time: 1.4 ms\n",
            "Jaccard Similarity: 41.94% | Time: 0.0 ms\n",
            "Damerau-Levenshtein: 59.09 | Time: 1.8 ms\n"
          ]
        }
      ]
    },
    {
      "cell_type": "markdown",
      "source": [
        "# Weighted"
      ],
      "metadata": {
        "id": "YdWuiridFD9t"
      }
    }
  ]
}